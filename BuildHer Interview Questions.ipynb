{
 "cells": [
  {
   "cell_type": "markdown",
   "id": "bec33568",
   "metadata": {},
   "source": [
    "# BuildHer Interview Questions\n",
    "Link: https://lovelocal.gitbook.io/internship-questions/"
   ]
  },
  {
   "cell_type": "markdown",
   "id": "e3e8e274",
   "metadata": {},
   "source": [
    "# Easy 1"
   ]
  },
  {
   "cell_type": "markdown",
   "id": "4269aea0",
   "metadata": {},
   "source": [
    "# Example 1:"
   ]
  },
  {
   "cell_type": "raw",
   "id": "76cd8fb2",
   "metadata": {},
   "source": [
    "\n",
    "Input : s= \"Hello World\"\n",
    "Output: 5\n",
    "Explnation : The last word is \"World\" with length 5."
   ]
  },
  {
   "cell_type": "code",
   "execution_count": 1,
   "id": "ad3a3205",
   "metadata": {},
   "outputs": [
    {
     "name": "stdout",
     "output_type": "stream",
     "text": [
      "5\n"
     ]
    }
   ],
   "source": [
    "def length_of_last_word(s):\n",
    "    words = s.split()\n",
    "    if not words:\n",
    "        return 0\n",
    "    return len(words[-1])\n",
    "\n",
    "s = \"Hello World\"\n",
    "result=length_of_last_word(s)\n",
    "print(result)"
   ]
  },
  {
   "cell_type": "markdown",
   "id": "ec23c80f",
   "metadata": {},
   "source": [
    "# Example 2:\n"
   ]
  },
  {
   "cell_type": "raw",
   "id": "2531a6cd",
   "metadata": {},
   "source": [
    "\n",
    "Input: s = \"   fly me   to   the moon  \"\n",
    "Output: 4\n",
    "Explanation: The last word is \"moon\" with length 4."
   ]
  },
  {
   "cell_type": "code",
   "execution_count": 2,
   "id": "a74fc542",
   "metadata": {},
   "outputs": [
    {
     "name": "stdout",
     "output_type": "stream",
     "text": [
      "5\n"
     ]
    }
   ],
   "source": [
    "def length_of_last_word(s):\n",
    "    words = s.split()\n",
    "    if not words:\n",
    "        return 0\n",
    "    return len(words[-1])\n",
    "\n",
    "s=\" fly me to the moon \"\n",
    "reslut = length_of_last_word(s)\n",
    "print(result)"
   ]
  },
  {
   "cell_type": "markdown",
   "id": "eb8c4577",
   "metadata": {},
   "source": [
    "# Example 3:\n"
   ]
  },
  {
   "cell_type": "raw",
   "id": "b8d6a001",
   "metadata": {},
   "source": [
    "\n",
    "Input: s = \"luffy is still joyboy\"\n",
    "Output: 6\n",
    "Explanation: The last word is \"joyboy\" with length 6."
   ]
  },
  {
   "cell_type": "code",
   "execution_count": 3,
   "id": "5ab782b1",
   "metadata": {},
   "outputs": [
    {
     "name": "stdout",
     "output_type": "stream",
     "text": [
      "6\n"
     ]
    }
   ],
   "source": [
    "def length_of_last_word(s):\n",
    "    words=s.split()\n",
    "    if not words:\n",
    "        return 0\n",
    "    return len(words[-1])\n",
    "\n",
    "s=\"luffy is still joyboy \"\n",
    "result=length_of_last_word(s)\n",
    "print(result)"
   ]
  },
  {
   "cell_type": "markdown",
   "id": "f133075a",
   "metadata": {},
   "source": [
    "# Easy 2"
   ]
  },
  {
   "cell_type": "raw",
   "id": "3fc35135",
   "metadata": {},
   "source": [
    "Given an integer array nums where the elements are sorted in ascending order, convert it to a \n",
    "height-balanced binary search tree (bst)\n",
    " "
   ]
  },
  {
   "cell_type": "markdown",
   "id": "501c0940",
   "metadata": {},
   "source": [
    "# Example 1:"
   ]
  },
  {
   "cell_type": "raw",
   "id": "d45a659c",
   "metadata": {},
   "source": [
    "Input: nums = [-10,-3,0,5,9]\n",
    "Output: [0,-3,9,-10,null,5]\n",
    "Explanation: [0,-10,5,null,-3,null,9] is also accepted:"
   ]
  },
  {
   "cell_type": "code",
   "execution_count": 4,
   "id": "f620ba22",
   "metadata": {},
   "outputs": [
    {
     "name": "stdout",
     "output_type": "stream",
     "text": [
      "[0, -3, 9, -10, None, 5, None, None, None, None, None]\n"
     ]
    }
   ],
   "source": [
    "class TreeNode:  \n",
    "    def __init__(self, val=0, left=None, right=None):\n",
    "        self.val=val\n",
    "        self.left = left\n",
    "        self.right=right\n",
    "        \n",
    "def sorted_array_to_bst(nums):\n",
    "    if not nums:\n",
    "        return None\n",
    "    \n",
    "    mid = len(nums)//2\n",
    "    return TreeNode(nums[mid],sorted_array_to_bst(nums[:mid]),sorted_array_to_bst(nums[mid+1:]))\n",
    "\n",
    "def level_order_traversal(root):\n",
    "    if not root:\n",
    "        return[]\n",
    "    \n",
    "    result, queue= [],[root]\n",
    "    \n",
    "    while queue:\n",
    "        node=queue.pop(0)\n",
    "        if node:\n",
    "            result.append(node.val)\n",
    "            queue.extend([node.left,node.right])\n",
    "        else:\n",
    "            result.append(None)\n",
    "    return result\n",
    "\n",
    "nums=[-10,-3,0,5,9]\n",
    "output = level_order_traversal(sorted_array_to_bst(nums))\n",
    "print(output)"
   ]
  },
  {
   "cell_type": "markdown",
   "id": "f5511d04",
   "metadata": {},
   "source": [
    "# Example 2:"
   ]
  },
  {
   "cell_type": "raw",
   "id": "52b12cf6",
   "metadata": {},
   "source": [
    "Input: nums = [1,3]\n",
    "Output: [3,1]\n",
    "Explanation: [1,null,3] and [3,1] are both height-balanced BSTs."
   ]
  },
  {
   "cell_type": "code",
   "execution_count": 5,
   "id": "c19d97de",
   "metadata": {},
   "outputs": [
    {
     "name": "stdout",
     "output_type": "stream",
     "text": [
      "[3, 1, None, None, None]\n"
     ]
    }
   ],
   "source": [
    "class TreeNode:\n",
    "    def __init__(self, val=0, left=None, right=None):\n",
    "        self.val = val\n",
    "        self.left = left\n",
    "        self.right = right\n",
    "\n",
    "def sorted_array_to_bst(nums):\n",
    "    if not nums:\n",
    "        return None\n",
    "\n",
    "    mid = len(nums) // 2\n",
    "    return TreeNode(nums[mid], sorted_array_to_bst(nums[:mid]), sorted_array_to_bst(nums[mid+1:]))\n",
    "\n",
    "def level_order_traversal(root):\n",
    "    if not root:\n",
    "        return []\n",
    "\n",
    "    result, queue = [], [root]\n",
    "\n",
    "    while queue:\n",
    "        node = queue.pop(0)\n",
    "        if node:\n",
    "            result.append(node.val)\n",
    "            queue.extend([node.left, node.right])\n",
    "        else:\n",
    "            result.append(None)\n",
    "\n",
    "    return result\n",
    "\n",
    "nums = [1, 3]\n",
    "output = level_order_traversal(sorted_array_to_bst(nums))\n",
    "print(output)"
   ]
  },
  {
   "cell_type": "markdown",
   "id": "2fe7cd42",
   "metadata": {},
   "source": [
    "# Easy 3"
   ]
  },
  {
   "cell_type": "markdown",
   "id": "f06997d2",
   "metadata": {},
   "source": [
    "# Example 1:\n"
   ]
  },
  {
   "cell_type": "raw",
   "id": "4bd06415",
   "metadata": {},
   "source": [
    "Input: numRows = 5\n",
    "Output: [[1],[1,1],[1,2,1],[1,3,3,1],[1,4,6,4,1]]"
   ]
  },
  {
   "cell_type": "code",
   "execution_count": 6,
   "id": "2350c472",
   "metadata": {},
   "outputs": [
    {
     "name": "stdout",
     "output_type": "stream",
     "text": [
      "[[1], [1, 1], [1, 2, 1], [1, 3, 3, 1], [1, 4, 6, 4, 1]]\n"
     ]
    }
   ],
   "source": [
    "def generate_pascals_triangle(numRows):\n",
    "    if numRows == 0:\n",
    "        return []\n",
    "\n",
    "    triangle = [[1]]\n",
    "    \n",
    "    for i in range(1, numRows):\n",
    "        prev_row = triangle[-1]\n",
    "        new_row = [1] + [prev_row[j-1] + prev_row[j] for j in range(1, i)] + [1]\n",
    "        triangle.append(new_row)\n",
    "\n",
    "    return triangle\n",
    "\n",
    "numRows = 5\n",
    "output = generate_pascals_triangle(numRows)\n",
    "print(output)"
   ]
  },
  {
   "cell_type": "markdown",
   "id": "6cfce32e",
   "metadata": {},
   "source": [
    "# Example 2:"
   ]
  },
  {
   "cell_type": "raw",
   "id": "ea3eb384",
   "metadata": {},
   "source": [
    "Input: numRows = 1\n",
    "Output: [[1]]"
   ]
  },
  {
   "cell_type": "code",
   "execution_count": 7,
   "id": "418c379f",
   "metadata": {},
   "outputs": [
    {
     "name": "stdout",
     "output_type": "stream",
     "text": [
      "[[1]]\n"
     ]
    }
   ],
   "source": [
    "def generate_pascals_triangle(numRows):\n",
    "    if numRows == 0:\n",
    "        return []\n",
    "    \n",
    "    triangle = [[1]]\n",
    "\n",
    "    for i in range(1, numRows):\n",
    "        prev_row = triangle[-1]\n",
    "        new_row = [1] + [prev_row[j-1] + prev_row[j] for j in range(1, i)] + [1]\n",
    "        triangle.append(new_row)\n",
    "\n",
    "    return triangle\n",
    "\n",
    "numRows = 1\n",
    "output = generate_pascals_triangle(numRows)\n",
    "print(output)"
   ]
  },
  {
   "cell_type": "markdown",
   "id": "a1d21e1f",
   "metadata": {},
   "source": [
    "# Medium 1 "
   ]
  },
  {
   "cell_type": "markdown",
   "id": "84077636",
   "metadata": {},
   "source": [
    "Given a binary search tree (BST), find the lowest common ancestor (LCA) node of two given nodes in the BST."
   ]
  },
  {
   "cell_type": "markdown",
   "id": "91625588",
   "metadata": {},
   "source": [
    "# Example 1:"
   ]
  },
  {
   "cell_type": "raw",
   "id": "28860b3b",
   "metadata": {},
   "source": [
    "Input: root = [6,2,8,0,4,7,9,null,null,3,5], p = 2, q = 8\n",
    "Output: 6\n",
    "Explanation: The LCA of nodes 2 and 8 is 6."
   ]
  },
  {
   "cell_type": "code",
   "execution_count": 8,
   "id": "11c89f6a",
   "metadata": {},
   "outputs": [
    {
     "name": "stdout",
     "output_type": "stream",
     "text": [
      "6\n"
     ]
    }
   ],
   "source": [
    "class TreeNode:\n",
    "    def __init__(self, val=0, left=None, right=None):\n",
    "        self.val = val\n",
    "        self.left = left\n",
    "        self.right = right\n",
    "\n",
    "def lowestCommonAncestor(root, p, q):\n",
    "    if not root:\n",
    "        return None\n",
    "\n",
    "    if root.val > p and root.val > q:\n",
    "        return lowestCommonAncestor(root.left, p, q)\n",
    "    elif root.val < p and root.val < q:\n",
    "        return lowestCommonAncestor(root.right, p, q)\n",
    "    else:\n",
    "        return root.val\n",
    "\n",
    "root = TreeNode(6)\n",
    "root.left = TreeNode(2, TreeNode(0), TreeNode(4, TreeNode(3), TreeNode(5)))\n",
    "root.right = TreeNode(8, TreeNode(7), TreeNode(9))\n",
    "\n",
    "p, q = 2, 8\n",
    "output = lowestCommonAncestor(root, p, q)\n",
    "print(output)"
   ]
  },
  {
   "cell_type": "markdown",
   "id": "2ae8ff16",
   "metadata": {},
   "source": [
    "# Example 2:"
   ]
  },
  {
   "cell_type": "raw",
   "id": "a45a1cad",
   "metadata": {},
   "source": [
    "Input: root = [6,2,8,0,4,7,9,null,null,3,5], p = 2, q = 4\n",
    "Output: 2\n",
    "Explanation: The LCA of nodes 2 and 4 is 2, since a node can be a descendant of itself according to the LCA definition."
   ]
  },
  {
   "cell_type": "code",
   "execution_count": 9,
   "id": "5bbfa7c6",
   "metadata": {},
   "outputs": [
    {
     "name": "stdout",
     "output_type": "stream",
     "text": [
      "2\n"
     ]
    }
   ],
   "source": [
    "class TreeNode:\n",
    "    def __init__(self, val=0, left=None, right=None):\n",
    "        self.val = val\n",
    "        self.left = left\n",
    "        self.right = right\n",
    "\n",
    "def lowestCommonAncestor(root, p, q):\n",
    "    if not root:\n",
    "        return None\n",
    "\n",
    "    if root.val > p and root.val > q:\n",
    "        return lowestCommonAncestor(root.left, p, q)\n",
    "    elif root.val < p and root.val < q:\n",
    "        return lowestCommonAncestor(root.right, p, q)\n",
    "    else:\n",
    "        return root.val\n",
    "\n",
    "root = TreeNode(6)\n",
    "root.left = TreeNode(2, TreeNode(0), TreeNode(4, TreeNode(3), TreeNode(5)))\n",
    "root.right = TreeNode(8, TreeNode(7), TreeNode(9))\n",
    "\n",
    "\n",
    "p, q = 2, 4\n",
    "output = lowestCommonAncestor(root, p, q)\n",
    "print(output)"
   ]
  },
  {
   "cell_type": "markdown",
   "id": "cbb5a118",
   "metadata": {},
   "source": [
    "# Example 3:\n"
   ]
  },
  {
   "cell_type": "raw",
   "id": "4840d08e",
   "metadata": {},
   "source": [
    "Input: root = [2,1], p = 2, q = 1\n",
    "Output: 2"
   ]
  },
  {
   "cell_type": "code",
   "execution_count": 10,
   "id": "c3ac529e",
   "metadata": {},
   "outputs": [
    {
     "name": "stdout",
     "output_type": "stream",
     "text": [
      "2\n"
     ]
    }
   ],
   "source": [
    "class TreeNode:\n",
    "    def __init__(self, val=0, left=None, right=None):\n",
    "        self.val = val\n",
    "        self.left = left\n",
    "        self.right = right\n",
    "\n",
    "def lowestCommonAncestor(root, p, q):\n",
    "    if not root:\n",
    "        return None\n",
    "\n",
    "    if root.val > p and root.val > q:\n",
    "        return lowestCommonAncestor(root.left, p, q)\n",
    "    elif root.val < p and root.val < q:\n",
    "        return lowestCommonAncestor(root.right, p, q)\n",
    "    else:\n",
    "        return root.val\n",
    "\n",
    "root = TreeNode(2, TreeNode(1))\n",
    "\n",
    "p, q = 2, 1\n",
    "output = lowestCommonAncestor(root, p, q)\n",
    "print(output)"
   ]
  },
  {
   "cell_type": "markdown",
   "id": "5be61d1d",
   "metadata": {},
   "source": [
    "#  Medium 2"
   ]
  },
  {
   "cell_type": "markdown",
   "id": "1f5b1845",
   "metadata": {},
   "source": [
    "# Example 1:"
   ]
  },
  {
   "cell_type": "raw",
   "id": "66801330",
   "metadata": {},
   "source": [
    "Input: nums = [3,2,3]\n",
    "Output: [3]"
   ]
  },
  {
   "cell_type": "code",
   "execution_count": 11,
   "id": "d57334cc",
   "metadata": {},
   "outputs": [
    {
     "name": "stdout",
     "output_type": "stream",
     "text": [
      "[3]\n"
     ]
    }
   ],
   "source": [
    "def majority_element(nums):\n",
    "    candidate, count = nums[0], 1\n",
    "\n",
    "    for num in nums[1:]:\n",
    "        if count == 0:\n",
    "            candidate = num\n",
    "            count = 1\n",
    "        elif num == candidate:\n",
    "            count += 1\n",
    "        else:\n",
    "            count -= 1\n",
    "\n",
    "    count = nums.count(candidate)\n",
    "    return [candidate] if count > len(nums) // 2 else []\n",
    "\n",
    "nums = [3, 2, 3]\n",
    "output = majority_element(nums)\n",
    "print(output)"
   ]
  },
  {
   "cell_type": "markdown",
   "id": "b5791dd9",
   "metadata": {},
   "source": [
    "# Example 2:"
   ]
  },
  {
   "cell_type": "raw",
   "id": "ecaafec1",
   "metadata": {},
   "source": [
    "Input: nums = [1]\n",
    "Output: [1]"
   ]
  },
  {
   "cell_type": "code",
   "execution_count": 12,
   "id": "35a4173a",
   "metadata": {},
   "outputs": [
    {
     "name": "stdout",
     "output_type": "stream",
     "text": [
      "[1]\n"
     ]
    }
   ],
   "source": [
    "def majority_element(nums):\n",
    "    if len(nums) == 1:\n",
    "        return nums\n",
    "\n",
    "    candidate, count = nums[0], 1\n",
    "\n",
    "    for num in nums[1:]:\n",
    "        if count == 0:\n",
    "            candidate = num\n",
    "            count = 1\n",
    "        elif num == candidate:\n",
    "            count += 1\n",
    "        else:\n",
    "            count -= 1\n",
    "\n",
    "    count = nums.count(candidate)\n",
    "    return [candidate] if count > len(nums) // 2 else []\n",
    "\n",
    "nums = [1]\n",
    "output = majority_element(nums)\n",
    "print(output)"
   ]
  },
  {
   "cell_type": "markdown",
   "id": "6bfa1033",
   "metadata": {},
   "source": [
    "# Example 3"
   ]
  },
  {
   "cell_type": "raw",
   "id": "dbcb8b29",
   "metadata": {},
   "source": [
    "Input: nums = [1,2]\n",
    "Output: [1,2]"
   ]
  },
  {
   "cell_type": "code",
   "execution_count": 13,
   "id": "2466734d",
   "metadata": {},
   "outputs": [
    {
     "name": "stdout",
     "output_type": "stream",
     "text": [
      "[1, 2]\n"
     ]
    }
   ],
   "source": [
    "def majority_element(nums):\n",
    "    if len(nums) <= 2:\n",
    "        return nums\n",
    "\n",
    "    candidate1, count1 = nums[0], 1\n",
    "    candidate2, count2 = nums[1], 1\n",
    "\n",
    "    for num in nums[2:]:\n",
    "        if num == candidate1:\n",
    "            count1 += 1\n",
    "        elif num == candidate2:\n",
    "            count2 += 1\n",
    "        elif count1 == 0:\n",
    "            candidate1, count1 = num, 1\n",
    "        elif count2 == 0:\n",
    "            candidate2, count2 = num, 1\n",
    "        else:\n",
    "            count1 -= 1\n",
    "            count2 -= 1\n",
    "\n",
    "    count1 = nums.count(candidate1)\n",
    "    count2 = nums.count(candidate2)\n",
    "\n",
    "    result = []\n",
    "    if count1 > len(nums) // 3:\n",
    "        result.append(candidate1)\n",
    "    if count2 > len(nums) // 3:\n",
    "        result.append(candidate2)\n",
    "\n",
    "    return result\n",
    "\n",
    "nums = [1, 2]\n",
    "output = majority_element(nums)\n",
    "print(output)"
   ]
  },
  {
   "cell_type": "markdown",
   "id": "b19ba0cd",
   "metadata": {},
   "source": [
    "# Medium 3"
   ]
  },
  {
   "cell_type": "markdown",
   "id": "856be333",
   "metadata": {},
   "source": [
    "# Example 1:"
   ]
  },
  {
   "cell_type": "raw",
   "id": "a343d095",
   "metadata": {},
   "source": [
    "Given an m x n binary matrix filled with 0's and 1's, find the largest square containing only 1's and return its area."
   ]
  },
  {
   "cell_type": "code",
   "execution_count": 14,
   "id": "98fe00b5",
   "metadata": {},
   "outputs": [
    {
     "name": "stdout",
     "output_type": "stream",
     "text": [
      "4\n"
     ]
    }
   ],
   "source": [
    "def maximalSquare(matrix):\n",
    "    if not matrix or not matrix[0]:\n",
    "        return 0\n",
    "\n",
    "    m, n = len(matrix), len(matrix[0])\n",
    "    dp = [[0] * (n + 1) for _ in range(m + 1)]\n",
    "    max_side = 0\n",
    "\n",
    "    for i in range(1, m + 1):\n",
    "        for j in range(1, n + 1):\n",
    "            if matrix[i - 1][j - 1] == '1':\n",
    "                dp[i][j] = min(dp[i - 1][j - 1], dp[i - 1][j], dp[i][j - 1]) + 1\n",
    "                max_side = max(max_side, dp[i][j])\n",
    "\n",
    "    return max_side * max_side\n",
    "\n",
    "# Example usage:\n",
    "matrix = [\n",
    "    [\"1\", \"0\", \"1\", \"0\", \"0\"],\n",
    "    [\"1\", \"0\", \"1\", \"1\", \"1\"],\n",
    "    [\"1\", \"1\", \"1\", \"1\", \"1\"],\n",
    "    [\"1\", \"0\", \"0\", \"1\", \"0\"]\n",
    "]\n",
    "\n",
    "result = maximalSquare(matrix)\n",
    "print(result)"
   ]
  },
  {
   "cell_type": "markdown",
   "id": "81272e77",
   "metadata": {},
   "source": [
    "# Example 2:"
   ]
  },
  {
   "cell_type": "raw",
   "id": "a714a24c",
   "metadata": {},
   "source": [
    "Input: matrix = [[\"1\",\"0\",\"1\",\"0\",\"0\"],[\"1\",\"0\",\"1\",\"1\",\"1\"],[\"1\",\"1\",\"1\",\"1\",\"1\"],[\"1\",\"0\",\"0\",\"1\",\"0\"]]\n",
    "Output: 4"
   ]
  },
  {
   "cell_type": "code",
   "execution_count": 15,
   "id": "b5811314",
   "metadata": {},
   "outputs": [
    {
     "name": "stdout",
     "output_type": "stream",
     "text": [
      "4\n"
     ]
    }
   ],
   "source": [
    "def maximalSquare(matrix):\n",
    "    if not matrix or not matrix[0]:\n",
    "        return 0\n",
    "\n",
    "    m, n = len(matrix), len(matrix[0])\n",
    "    dp = [[0] * (n + 1) for _ in range(m + 1)]\n",
    "    max_side = 0\n",
    "\n",
    "    for i in range(1, m + 1):\n",
    "        for j in range(1, n + 1):\n",
    "            if matrix[i - 1][j - 1] == '1':\n",
    "                dp[i][j] = min(dp[i - 1][j - 1], dp[i - 1][j], dp[i][j - 1]) + 1\n",
    "                max_side = max(max_side, dp[i][j])\n",
    "\n",
    "    return max_side * max_side\n",
    "\n",
    "# Example usage:\n",
    "matrix = [\n",
    "    [\"1\", \"0\", \"1\", \"0\", \"0\"],\n",
    "    [\"1\", \"0\", \"1\", \"1\", \"1\"],\n",
    "    [\"1\", \"1\", \"1\", \"1\", \"1\"],\n",
    "    [\"1\", \"0\", \"0\", \"1\", \"0\"]\n",
    "]\n",
    "\n",
    "result = maximalSquare(matrix)\n",
    "print(result)"
   ]
  },
  {
   "cell_type": "raw",
   "id": "02d422a3",
   "metadata": {},
   "source": [
    "Input: matrix = [[\"0\",\"1\"],[\"1\",\"0\"]]\n",
    "Output: 1"
   ]
  },
  {
   "cell_type": "code",
   "execution_count": 16,
   "id": "5a905f8b",
   "metadata": {},
   "outputs": [
    {
     "name": "stdout",
     "output_type": "stream",
     "text": [
      "1\n"
     ]
    }
   ],
   "source": [
    "def maximalSquare(matrix):\n",
    "    if not matrix or not matrix[0]:\n",
    "        return 0\n",
    "\n",
    "    m, n = len(matrix), len(matrix[0])\n",
    "    dp = [[0] * (n + 1) for _ in range(m + 1)]\n",
    "    max_side = 0\n",
    "\n",
    "    for i in range(1, m + 1):\n",
    "        for j in range(1, n + 1):\n",
    "            if matrix[i - 1][j - 1] == '1':\n",
    "                dp[i][j] = min(dp[i - 1][j - 1], dp[i - 1][j], dp[i][j - 1]) + 1\n",
    "                max_side = max(max_side, dp[i][j])\n",
    "\n",
    "    return max_side * max_side\n",
    "\n",
    "matrix = [\n",
    "    [\"0\", \"1\"],\n",
    "    [\"1\", \"0\"]\n",
    "]\n",
    "\n",
    "result = maximalSquare(matrix)\n",
    "print(result)"
   ]
  },
  {
   "cell_type": "markdown",
   "id": "d7b52f55",
   "metadata": {},
   "source": [
    "# Hard 1"
   ]
  },
  {
   "cell_type": "markdown",
   "id": "62359d50",
   "metadata": {},
   "source": [
    "# Example 1:\n",
    " \n",
    "Return the max sliding window.\n",
    "You are given an array of integers nums, there is a sliding window of size k which is moving from the very left of the array to the very right. You can only see the k numbers in the window. Each time the sliding window moves right by one position."
   ]
  },
  {
   "cell_type": "code",
   "execution_count": 17,
   "id": "bdf060ba",
   "metadata": {},
   "outputs": [
    {
     "name": "stdout",
     "output_type": "stream",
     "text": [
      "[3, 3, 5, 5, 6, 7]\n"
     ]
    }
   ],
   "source": [
    "from collections import deque\n",
    "\n",
    "def maxSlidingWindow(nums, k):\n",
    "    result = []\n",
    "    dq = deque()\n",
    "\n",
    "    for i in range(len(nums)):\n",
    "        while dq and dq[0] < i - k + 1:\n",
    "            dq.popleft()\n",
    "        while dq and nums[dq[-1]] < nums[i]:\n",
    "            dq.pop()\n",
    "\n",
    "        dq.append(i)\n",
    "        if i >= k - 1:\n",
    "            result.append(nums[dq[0]])\n",
    "    return result\n",
    "\n",
    "nums = [1,3,-1,-3,5,3,6,7]\n",
    "k = 3\n",
    "output = maxSlidingWindow(nums, k)\n",
    "print(output)"
   ]
  },
  {
   "cell_type": "markdown",
   "id": "32c2fdb2",
   "metadata": {},
   "source": [
    "# Example 2:"
   ]
  },
  {
   "cell_type": "raw",
   "id": "25e4cd94",
   "metadata": {},
   "source": [
    "Input: nums = [1,3,-1,-3,5,3,6,7], k = 3 Output: [3,3,5,5,6,7] Explanation: Window position Max\n",
    "\n",
    "[1 3 -1] -3 5 3 6 7 3 1 [3 -1 -3] 5 3 6 7 3 1 3 [-1 -3 5] 3 6 7 5 1 3 -1 [-3 5 3] 6 7 5 1 3 -1 -3 [5 3 6] 7 6 1 3 -1 -3 5 [3 6 7] 7"
   ]
  },
  {
   "cell_type": "code",
   "execution_count": 18,
   "id": "f86e7995",
   "metadata": {},
   "outputs": [
    {
     "name": "stdout",
     "output_type": "stream",
     "text": [
      "[3, 3, 5, 5, 6, 7]\n"
     ]
    }
   ],
   "source": [
    "from collections import deque\n",
    "\n",
    "def maxSlidingWindow(nums, k):\n",
    "    result = []\n",
    "    dq = deque()\n",
    "\n",
    "    for i in range(len(nums)):\n",
    "        while dq and dq[0] < i - k + 1:\n",
    "            dq.popleft()\n",
    "        while dq and nums[dq[-1]] < nums[i]:\n",
    "            dq.pop()\n",
    "        dq.append(i)\n",
    "        if i >= k - 1:\n",
    "            result.append(nums[dq[0]])\n",
    "\n",
    "    return result\n",
    "\n",
    "nums = [1, 3, -1, -3, 5, 3, 6, 7]\n",
    "k = 3\n",
    "output = maxSlidingWindow(nums, k)\n",
    "print(output)"
   ]
  },
  {
   "cell_type": "markdown",
   "id": "8f29d9c5",
   "metadata": {},
   "source": [
    "# Hard 2"
   ]
  },
  {
   "cell_type": "raw",
   "id": "aa337fb1",
   "metadata": {},
   "source": [
    "You are given a string s. You can convert s to a \n",
    "palindrome by adding characters in front of it.\n",
    "Return the shortest palindrome you can find by performing this transformation.\n",
    " "
   ]
  },
  {
   "cell_type": "markdown",
   "id": "949840e9",
   "metadata": {},
   "source": [
    "# Example 1:\n",
    "Input: s = \"aacecaaa\"\n",
    "Output: \"aaacecaaa\""
   ]
  },
  {
   "cell_type": "code",
   "execution_count": 19,
   "id": "e427f8f9",
   "metadata": {},
   "outputs": [
    {
     "name": "stdout",
     "output_type": "stream",
     "text": [
      "aaacecaaa\n"
     ]
    }
   ],
   "source": [
    "def shortestPalindrome(s):\n",
    "    i = 0\n",
    "    for j in range(len(s) - 1, -1, -1):\n",
    "        if s[i] == s[j]:\n",
    "            i += 1\n",
    "\n",
    "    if i == len(s):\n",
    "        return s\n",
    "\n",
    "    suffix = s[i:]\n",
    "    prefix = suffix[::-1]\n",
    "    return prefix + shortestPalindrome(s[:i]) + suffix\n",
    "\n",
    "s = \"aacecaaa\"\n",
    "output = shortestPalindrome(s)\n",
    "print(output)"
   ]
  },
  {
   "cell_type": "markdown",
   "id": "9912b882",
   "metadata": {},
   "source": [
    "# Example 2:\n",
    "Input: s = \"abcd\"\n",
    "Output: \"dcbabcd\""
   ]
  },
  {
   "cell_type": "code",
   "execution_count": 20,
   "id": "97ca64a6",
   "metadata": {},
   "outputs": [
    {
     "name": "stdout",
     "output_type": "stream",
     "text": [
      "dcbabcd\n"
     ]
    }
   ],
   "source": [
    "def shortestPalindrome(s):\n",
    "    i = 0\n",
    "    for j in range(len(s) - 1, -1, -1):\n",
    "        if s[i] == s[j]:\n",
    "            i += 1\n",
    "\n",
    "    if i == len(s):\n",
    "        return s\n",
    "\n",
    "    suffix = s[i:]\n",
    "    prefix = suffix[::-1]\n",
    "    return prefix + shortestPalindrome(s[:i]) + suffix\n",
    "\n",
    "# Example usage:\n",
    "s = \"abcd\"\n",
    "output = shortestPalindrome(s)\n",
    "print(output)"
   ]
  },
  {
   "cell_type": "markdown",
   "id": "f2f508fd",
   "metadata": {},
   "source": [
    "# Hard 3"
   ]
  },
  {
   "cell_type": "raw",
   "id": "d8a63cc4",
   "metadata": {},
   "source": [
    "Given an integer n, count the total number of digit 1 appearing in all non-negative integers less than or equal to n."
   ]
  },
  {
   "cell_type": "markdown",
   "id": "63e83a44",
   "metadata": {},
   "source": [
    "# Example 1:\n",
    "Input: n = 13\n",
    "Output: 6"
   ]
  },
  {
   "cell_type": "code",
   "execution_count": 21,
   "id": "d7aa9ecf",
   "metadata": {},
   "outputs": [
    {
     "name": "stdout",
     "output_type": "stream",
     "text": [
      "6\n"
     ]
    }
   ],
   "source": [
    "def countDigitOne(n):\n",
    "    count = 0\n",
    "    factor = 1\n",
    "    i = 1\n",
    "\n",
    "    while i <= n:\n",
    "        divisor = i * 10\n",
    "        count += (n // divisor) * i + min(max(n % divisor - i + 1, 0), i)\n",
    "        i *= 10\n",
    "\n",
    "    return count\n",
    "\n",
    "# Example usage:\n",
    "n = 13\n",
    "output = countDigitOne(n)\n",
    "print(output)"
   ]
  },
  {
   "cell_type": "markdown",
   "id": "1df3c075",
   "metadata": {},
   "source": [
    "# Example 2:\n",
    "Input: n = 0\n",
    "Output: 0"
   ]
  },
  {
   "cell_type": "code",
   "execution_count": 22,
   "id": "88f5a5eb",
   "metadata": {},
   "outputs": [
    {
     "name": "stdout",
     "output_type": "stream",
     "text": [
      "0\n"
     ]
    }
   ],
   "source": [
    "def countDigitOne(n):\n",
    "    count = 0\n",
    "    factor = 1\n",
    "    i = 1\n",
    "\n",
    "    while i <= n:\n",
    "        divisor = i * 10\n",
    "        count += (n // divisor) * i + min(max(n % divisor - i + 1, 0), i)\n",
    "        i *= 10\n",
    "\n",
    "    return count\n",
    "\n",
    "n = 0\n",
    "output = countDigitOne(n)\n",
    "print(output)"
   ]
  },
  {
   "cell_type": "code",
   "execution_count": null,
   "id": "3d1e8197",
   "metadata": {},
   "outputs": [],
   "source": []
  }
 ],
 "metadata": {
  "kernelspec": {
   "display_name": "Python 3",
   "language": "python",
   "name": "python3"
  },
  "language_info": {
   "codemirror_mode": {
    "name": "ipython",
    "version": 3
   },
   "file_extension": ".py",
   "mimetype": "text/x-python",
   "name": "python",
   "nbconvert_exporter": "python",
   "pygments_lexer": "ipython3",
   "version": "3.8.8"
  }
 },
 "nbformat": 4,
 "nbformat_minor": 5
}
